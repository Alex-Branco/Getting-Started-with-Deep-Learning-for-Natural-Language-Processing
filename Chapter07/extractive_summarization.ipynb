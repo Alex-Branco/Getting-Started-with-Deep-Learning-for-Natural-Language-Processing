{
 "cells": [
  {
   "cell_type": "markdown",
   "metadata": {},
   "source": [
    "# Building Text Summarization Engine\n",
    "\n",
    "One of the popular algorithm for text summarization is text rank. Text is an extractive and unsupervised techniques for the text summarization. Text rank is inspired by the page rank algorithm. page rank is popularly used in the search engine development like google.  Let's see how page rank works. For Example, we have 5 pages with some hyperlinking between them. The hyperlink is a way to navigate between two pages.  the connectivity of one page is defined as per the number of hyperlinks present between them. for example, let's say we have following hyperlinking in 5 pages\n",
    "\n",
    "The rank of these pages can be defined on the basis of a number of links present in between them using Pagerank algorithm.\n",
    "\n",
    "The connectivity between 5 pages can be represented with probabilities and this probability can be easily represented with a matrix of 5*5 as shown below with all the probabilities. \n",
    "\n",
    "Write about matrix generation. The page which is having no connectivity is called a dangling page. here --- is the dangling page. \n",
    "\n",
    "The entire process of the Text rank is can be summarized in the following steps.these step is very similar to the Page rank algorithm. \n",
    "\n",
    "- In place of web pages, we use text in the Text rank\n",
    "- The hyperlink between two pages as the connectivity measure is replaced with the sentence similarity in the text rank algorithm.\n",
    "- The matrix is constructed with a similarity between all the sentences.\n",
    "\n",
    "\n",
    "In the single document summarization, the document is tokenized.\n",
    "In the multiple documents, the first step would concatenate all the documents and then tokenize the text.\n",
    "Apply distance measure on the sentence after applying embeddings to the tokens. Using this a similarity matrix is calculated. \n",
    "A weighted graph is constructed. \n",
    "page rank is applied to the constructed graph to form the sentence ranking\n",
    "Based on the sentence ranking summary s constructed\n"
   ]
  },
  {
   "cell_type": "markdown",
   "metadata": {},
   "source": [
    "# Importing Requirements"
   ]
  },
  {
   "cell_type": "code",
   "execution_count": 14,
   "metadata": {},
   "outputs": [],
   "source": [
    "import numpy as np\n",
    "import pandas as pd\n",
    "import nltk\n",
    "import re\n",
    "import chakin\n",
    "from sklearn.metrics.pairwise import cosine_similarity\n",
    "from nltk.corpus import stopwords\n",
    "stop_words = stopwords.words('english')\n",
    "import networkx as nx"
   ]
  },
  {
   "cell_type": "markdown",
   "metadata": {},
   "source": [
    "Constructing a dataframe by reading our created dadaset."
   ]
  },
  {
   "cell_type": "code",
   "execution_count": 5,
   "metadata": {},
   "outputs": [],
   "source": [
    "dataframe = pd.read_csv(\"data/text_summarization_dataset.tsv\",\"\\t\")"
   ]
  },
  {
   "cell_type": "markdown",
   "metadata": {},
   "source": [
    "The constructed dataframe looks like as given below, It has three columns id, url and text. The url is given to comply with the commercial use of wikipedia content. The text is the only one colum we will be using here onward. We have seven short paragrah about galaxies taken from wiikipedia. This can be considered as multiple document and our task is to findout/extract few sentences that represent the crux of the all seven documents."
   ]
  },
  {
   "cell_type": "code",
   "execution_count": 6,
   "metadata": {
    "scrolled": true
   },
   "outputs": [
    {
     "data": {
      "text/html": [
       "<div>\n",
       "<style scoped>\n",
       "    .dataframe tbody tr th:only-of-type {\n",
       "        vertical-align: middle;\n",
       "    }\n",
       "\n",
       "    .dataframe tbody tr th {\n",
       "        vertical-align: top;\n",
       "    }\n",
       "\n",
       "    .dataframe thead th {\n",
       "        text-align: right;\n",
       "    }\n",
       "</style>\n",
       "<table border=\"1\" class=\"dataframe\">\n",
       "  <thead>\n",
       "    <tr style=\"text-align: right;\">\n",
       "      <th></th>\n",
       "      <th>id</th>\n",
       "      <th>url</th>\n",
       "      <th>text</th>\n",
       "    </tr>\n",
       "  </thead>\n",
       "  <tbody>\n",
       "    <tr>\n",
       "      <th>0</th>\n",
       "      <td>1</td>\n",
       "      <td>https://en.wikipedia.org/wiki/Galaxy#Interacting</td>\n",
       "      <td>Interactions between galaxies are relatively f...</td>\n",
       "    </tr>\n",
       "    <tr>\n",
       "      <th>1</th>\n",
       "      <td>2</td>\n",
       "      <td>https://en.wikipedia.org/wiki/Galaxy#Interacting</td>\n",
       "      <td>Stars are created within galaxies from a reser...</td>\n",
       "    </tr>\n",
       "    <tr>\n",
       "      <th>2</th>\n",
       "      <td>3</td>\n",
       "      <td>https://en.wikipedia.org/wiki/Galaxy#Interacting</td>\n",
       "      <td>A portion of the observable galaxies are class...</td>\n",
       "    </tr>\n",
       "    <tr>\n",
       "      <th>3</th>\n",
       "      <td>4</td>\n",
       "      <td>https://en.wikipedia.org/wiki/Dark_galaxy</td>\n",
       "      <td>A dark galaxy is a hypothesized galaxy with no...</td>\n",
       "    </tr>\n",
       "    <tr>\n",
       "      <th>4</th>\n",
       "      <td>5</td>\n",
       "      <td>https://en.wikipedia.org/wiki/Dark_galaxy</td>\n",
       "      <td>Scientists do not have much explanation for so...</td>\n",
       "    </tr>\n",
       "    <tr>\n",
       "      <th>5</th>\n",
       "      <td>6</td>\n",
       "      <td>https://en.wikipedia.org/wiki/Dark_matter</td>\n",
       "      <td>Dark matter is a form of matter that is though...</td>\n",
       "    </tr>\n",
       "    <tr>\n",
       "      <th>6</th>\n",
       "      <td>7</td>\n",
       "      <td>https://en.wikipedia.org/wiki/Dark_matter</td>\n",
       "      <td>The primary evidence for dark matter is that c...</td>\n",
       "    </tr>\n",
       "    <tr>\n",
       "      <th>7</th>\n",
       "      <td>8</td>\n",
       "      <td>https://en.wikipedia.org/wiki/Dark_matter</td>\n",
       "      <td>Because dark matter has not yet been observed ...</td>\n",
       "    </tr>\n",
       "    <tr>\n",
       "      <th>8</th>\n",
       "      <td>9</td>\n",
       "      <td>https://en.wikipedia.org/wiki/Dark_matter</td>\n",
       "      <td>The arms of spiral galaxies rotate around the ...</td>\n",
       "    </tr>\n",
       "    <tr>\n",
       "      <th>9</th>\n",
       "      <td>10</td>\n",
       "      <td>https://en.wikipedia.org/wiki/Dark_matter</td>\n",
       "      <td>One of the consequences of general relativity ...</td>\n",
       "    </tr>\n",
       "  </tbody>\n",
       "</table>\n",
       "</div>"
      ],
      "text/plain": [
       "   id                                               url  \\\n",
       "0   1  https://en.wikipedia.org/wiki/Galaxy#Interacting   \n",
       "1   2  https://en.wikipedia.org/wiki/Galaxy#Interacting   \n",
       "2   3  https://en.wikipedia.org/wiki/Galaxy#Interacting   \n",
       "3   4         https://en.wikipedia.org/wiki/Dark_galaxy   \n",
       "4   5         https://en.wikipedia.org/wiki/Dark_galaxy   \n",
       "5   6         https://en.wikipedia.org/wiki/Dark_matter   \n",
       "6   7         https://en.wikipedia.org/wiki/Dark_matter   \n",
       "7   8         https://en.wikipedia.org/wiki/Dark_matter   \n",
       "8   9         https://en.wikipedia.org/wiki/Dark_matter   \n",
       "9  10         https://en.wikipedia.org/wiki/Dark_matter   \n",
       "\n",
       "                                                text  \n",
       "0  Interactions between galaxies are relatively f...  \n",
       "1  Stars are created within galaxies from a reser...  \n",
       "2  A portion of the observable galaxies are class...  \n",
       "3  A dark galaxy is a hypothesized galaxy with no...  \n",
       "4  Scientists do not have much explanation for so...  \n",
       "5  Dark matter is a form of matter that is though...  \n",
       "6  The primary evidence for dark matter is that c...  \n",
       "7  Because dark matter has not yet been observed ...  \n",
       "8  The arms of spiral galaxies rotate around the ...  \n",
       "9  One of the consequences of general relativity ...  "
      ]
     },
     "execution_count": 6,
     "metadata": {},
     "output_type": "execute_result"
    }
   ],
   "source": [
    "dataframe "
   ]
  },
  {
   "cell_type": "code",
   "execution_count": 8,
   "metadata": {},
   "outputs": [
    {
     "data": {
      "text/plain": [
       "'Interactions between galaxies are relatively frequent, and they can play an important role in galactic evolution. Near misses between galaxies result in warping distortions due to tidal interactions, and may cause some exchange of gas and dust.[83][84] Collisions occur when two galaxies pass directly through each other and have sufficient relative momentum not to merge. The stars of interacting galaxies will usually not collide, but the gas and dust within the two forms will interact, sometimes triggering star formation. A collision can severely distort the shape of the galaxies, forming bars, rings or tail-like structures.[83][84]. At the extreme of interactions are galactic mergers. In this case the relative momentum of the two galaxies is insufficient to allow the galaxies to pass through each other. Instead, they gradually merge to form a single, larger galaxy. Mergers can result in significant changes to morphology, as compared to the original galaxies. If one of the merging galaxies is much more massive than the other merging galaxy then the result is known as cannibalism. The more massive larger galaxy will remain relatively undisturbed by the merger, while the smaller galaxy is torn apart. The Milky Way galaxy is currently in the process of cannibalizing the Sagittarius Dwarf Elliptical Galaxy and the Canis Major Dwarf Galaxy.[83][84]\\n\\n'"
      ]
     },
     "execution_count": 8,
     "metadata": {},
     "output_type": "execute_result"
    }
   ],
   "source": [
    "dataframe['text'][0]"
   ]
  },
  {
   "cell_type": "markdown",
   "metadata": {},
   "source": [
    "Tokenizing paragraph in to sentences and accumlating all sentecnes in to one list"
   ]
  },
  {
   "cell_type": "code",
   "execution_count": 12,
   "metadata": {},
   "outputs": [],
   "source": [
    "from nltk.tokenize import sent_tokenize\n",
    "sentences = []\n",
    "for each_paragraph in dataframe['text']:\n",
    "    for each_sent in sent_tokenize(each_paragraph):\n",
    "        sentences.append(each_sent)"
   ]
  },
  {
   "cell_type": "markdown",
   "metadata": {},
   "source": [
    "Downloading Embeddings : For this experimentation, I will be using GloVe vector of dimension 100 trained on \"Wikipedia+Gigaword 5 (6B)\" dataset. I will be using chakin to download GloVe word vectors. Once the vector is downloaded the vocabulary for our train and test split is mapped to GloVe vector by using below given snippet. Remember this method because we will be using this shortcut at many places in this chapter."
   ]
  },
  {
   "cell_type": "code",
   "execution_count": null,
   "metadata": {},
   "outputs": [],
   "source": [
    "embed_exists = os.path.isfile('../embeddings/glove.6B.zip')\n",
    "if not embed_exists:\n",
    "    print(\"Downloading Glove embeddings, if not downloaded properly, then delete the `embeddings/glove.6B.zip\")\n",
    "    chakin.search(lang='English')\n",
    "    chakin.download(number=16, save_dir='../embeddings')\n",
    "    zip_ref = zipfile.ZipFile(\"../embeddings/glove.6B.zip\", 'r')\n",
    "    zip_ref.extractall(\"../embeddings/\")\n",
    "    zip_ref.close()"
   ]
  },
  {
   "cell_type": "markdown",
   "metadata": {},
   "source": [
    "Vectorization : We will be using glove 100-dimensional vectors to convert our word in to vectors. The below given function will load all the vectors to word_embeddings dictionary where key will be word and value will be its 100 dimensional vector. Though this is not the best way but for loading embeddings but for this experiemtn its the quickest way to get the things done."
   ]
  },
  {
   "cell_type": "code",
   "execution_count": 15,
   "metadata": {},
   "outputs": [],
   "source": [
    "# Extract word vectors\n",
    "word_embeddings = {}\n",
    "f = open('../embeddings/glove.6B/glove.6B.100d.txt', encoding='utf-8')\n",
    "for line in f:\n",
    "    values = line.split()\n",
    "    word = values[0]\n",
    "    vector = np.asarray(values[1:], dtype='float32')\n",
    "    word_embeddings[word] = vector\n",
    "f.close()"
   ]
  },
  {
   "cell_type": "markdown",
   "metadata": {},
   "source": [
    "Some preprocessing steps."
   ]
  },
  {
   "cell_type": "code",
   "execution_count": 16,
   "metadata": {},
   "outputs": [],
   "source": [
    "# remove punctuations, numbers and special characters\n",
    "clean_sentences = pd.Series(sentences).str.replace(\"[^a-zA-Z]\", \" \")\n",
    "# make alphabets lowercase\n",
    "clean_sentences = [s.lower() for s in clean_sentences]"
   ]
  },
  {
   "cell_type": "code",
   "execution_count": 17,
   "metadata": {},
   "outputs": [],
   "source": [
    "# function to remove stopwords\n",
    "def remove_stopwords(sen):\n",
    "    sen_new = \" \".join([i for i in sen if i not in stop_words])\n",
    "    return sen_new\n",
    "\n",
    "# remove stopwords from the sentences\n",
    "clean_sentences = [remove_stopwords(r.split()) for r in clean_sentences]"
   ]
  },
  {
   "cell_type": "markdown",
   "metadata": {},
   "source": [
    "Sentence Representation : Next step is to find average of all the word embeddings in the sentence, in this way each sentence will be represrented by centroid of all the word"
   ]
  },
  {
   "cell_type": "code",
   "execution_count": 18,
   "metadata": {},
   "outputs": [],
   "source": [
    "sentence_vectors = []\n",
    "for each_sent in clean_sentences:\n",
    "    if len(each_sent) != 0:\n",
    "        v = sum([word_embeddings.get(word, np.zeros((100,))) for word in each_sent.split()])/(len(each_sent.split())+0.001)\n",
    "    else:\n",
    "        v = np.zeros((100,))\n",
    "    sentence_vectors.append(v)"
   ]
  },
  {
   "cell_type": "markdown",
   "metadata": {},
   "source": [
    "The resultant shape of the sentence will be equal to number of sentence each will be of 100-dimensions."
   ]
  },
  {
   "cell_type": "code",
   "execution_count": 19,
   "metadata": {},
   "outputs": [
    {
     "data": {
      "text/plain": [
       "(85, 100)"
      ]
     },
     "execution_count": 19,
     "metadata": {},
     "output_type": "execute_result"
    }
   ],
   "source": [
    "np.array(sentence_vectors).shape"
   ]
  },
  {
   "cell_type": "markdown",
   "metadata": {},
   "source": [
    "Initializing similarity matrix, the similarity matrix will be a square matrix of width and height equal to number sentences."
   ]
  },
  {
   "cell_type": "code",
   "execution_count": 20,
   "metadata": {},
   "outputs": [],
   "source": [
    "similarity_mat = np.zeros([len(sentences), len(sentences)])"
   ]
  },
  {
   "cell_type": "markdown",
   "metadata": {},
   "source": [
    "Finding distance betwenn all sentence to all sentences by getting cosine similarity between sentence. Any other distance measure cna be used."
   ]
  },
  {
   "cell_type": "code",
   "execution_count": 22,
   "metadata": {},
   "outputs": [],
   "source": [
    "for i in range(len(sentences)):\n",
    "    for j in range(len(sentences)):\n",
    "        if i != j:\n",
    "            similarity_mat[i][j] = cosine_similarity(sentence_vectors[i].reshape(1,100), sentence_vectors[j].reshape(1,100))[0,0]"
   ]
  },
  {
   "cell_type": "markdown",
   "metadata": {},
   "source": [
    "Using `NetworkX` as the library to apply page rank on our similarity matrix."
   ]
  },
  {
   "cell_type": "code",
   "execution_count": 24,
   "metadata": {},
   "outputs": [],
   "source": [
    "nx_graph = nx.from_numpy_array(similarity_mat)\n",
    "scores = nx.pagerank(nx_graph)"
   ]
  },
  {
   "cell_type": "markdown",
   "metadata": {},
   "source": [
    "The score are generated for each sentence and sentences are ranked according to score. "
   ]
  },
  {
   "cell_type": "code",
   "execution_count": 25,
   "metadata": {},
   "outputs": [],
   "source": [
    "ranked_sentences = sorted(((scores[i],s) for i,s in enumerate(sentences)), reverse=True)"
   ]
  },
  {
   "cell_type": "markdown",
   "metadata": {},
   "source": [
    "Extract top 10 sentences as the summary"
   ]
  },
  {
   "cell_type": "code",
   "execution_count": 26,
   "metadata": {},
   "outputs": [
    {
     "name": "stdout",
     "output_type": "stream",
     "text": [
      "0 > The primary evidence for dark matter is that calculations show that many galaxies would fly apart instead of rotating, or would not have formed or move as they do, if they did not contain a large amount of unseen matter.\n",
      "1 > He goes on to say, \"In our current theory of galaxy formation, we believe that big galaxies form from the merger of smaller galaxies.\n",
      "2 > The stars of interacting galaxies will usually not collide, but the gas and dust within the two forms will interact, sometimes triggering star formation.\n",
      "3 > Little is known about dark galaxies, and some scientists believe a dark galaxy is actually a newly forming galaxy.\n",
      "4 > A significant portion of the total energy output from the galaxy is emitted by the active galactic nucleus, instead of the stars, dust and interstellar medium of the galaxy.The standard model for an active galactic nucleus is based upon an accretion disc that forms around a supermassive black hole (SMBH) at the core region of the galaxy.\n",
      "5 > [49] Instead, the galaxy rotation curve remains flat as distance from the center increasesIf Kepler's laws are correct, then the obvious way to resolve this discrepancy is to conclude that the mass distribution in spiral galaxies is not similar to that of the Solar System.\n",
      "6 > One of the consequences of general relativity is that massive objects (such as a cluster of galaxies) lying between a more distant source (such as a quasar) and an observer should act as a lens to bend the light from this source.\n",
      "7 > If luminous mass were all the matter, then we can model the galaxy as a point mass in the centre and test masses orbiting around it, similar to the Solar System.\n",
      "8 > Stars are created within galaxies from a reserve of cold gas that forms into giant molecular clouds.\n",
      "9 > [14] Scientists say that the galaxies we see today only began to create stars after dark galaxies.\n"
     ]
    }
   ],
   "source": [
    "for i in range(10):\n",
    "  print(i,\">\",ranked_sentences[i][1])"
   ]
  },
  {
   "cell_type": "code",
   "execution_count": null,
   "metadata": {},
   "outputs": [],
   "source": []
  }
 ],
 "metadata": {
  "kernelspec": {
   "display_name": "Python 3",
   "language": "python",
   "name": "python3"
  },
  "language_info": {
   "codemirror_mode": {
    "name": "ipython",
    "version": 3
   },
   "file_extension": ".py",
   "mimetype": "text/x-python",
   "name": "python",
   "nbconvert_exporter": "python",
   "pygments_lexer": "ipython3",
   "version": "3.6.3"
  }
 },
 "nbformat": 4,
 "nbformat_minor": 2
}
