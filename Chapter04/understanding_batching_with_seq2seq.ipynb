{
 "cells": [
  {
   "cell_type": "markdown",
   "metadata": {
    "colab_type": "text",
    "id": "GKIKr5Lg3tbb"
   },
   "source": [
    "# Understanding Batching With Seq2Seq"
   ]
  },
  {
   "cell_type": "code",
   "execution_count": null,
   "metadata": {},
   "outputs": [],
   "source": [
    "## Author: Sunil Patel\n",
    "## Copyright: Copyright 2018-2019, Packt Publishing Limited\n",
    "## Version: 0.0.1\n",
    "## Maintainer: Sunil Patel\n",
    "## Email: snlpatel01213@hotmail.com\n",
    "## Linkedin: https://www.linkedin.com/in/linus1/\n",
    "## Contributor : {if you debug, append your name here}\n",
    "## Contributor Email : {if you debug, append your email here}\n",
    "## Status: active"
   ]
  },
  {
   "cell_type": "markdown",
   "metadata": {
    "colab_type": "text",
    "id": "zGQpjSkaPTVP"
   },
   "source": [
    "Lets say we want to build  a **\"Word Doubler\"**.  When given a sentence with 26 words it will convert it to 52 word sentence. In earlier Examples we have used batch size = 1 and hance only one example is processed at a time.  Earlier implementation was easy to implement but not efficient. To make it efficient we need to convert it to process $n$ example togather. This way we will be using rougly $n$ processor togather and will be processing $n$ time faster as well."
   ]
  },
  {
   "cell_type": "code",
   "execution_count": 1,
   "metadata": {
    "colab": {},
    "colab_type": "code",
    "id": "11al1LVQXSXs"
   },
   "outputs": [],
   "source": [
    "\n",
    "\n",
    "import random\n",
    "\n",
    "import torch\n",
    "import torch.nn as nn\n",
    "import torch.nn.functional as F\n",
    "from torch.autograd import Variable\n"
   ]
  },
  {
   "cell_type": "markdown",
   "metadata": {
    "colab_type": "text",
    "id": "J5imXGUN-7aQ"
   },
   "source": [
    "For Demonstration we are taking batch size = 64. To efficiently use GPU each time we will be taking 64 sentences having length 26 and will convert all of them to 64 sentence having length 52 ($26*2$)."
   ]
  },
  {
   "cell_type": "code",
   "execution_count": 2,
   "metadata": {
    "colab": {},
    "colab_type": "code",
    "id": "D4hnr5O8Z9vN"
   },
   "outputs": [],
   "source": [
    "hidden_size = 128\n",
    "batch_size = 64\n",
    "input_size = 25\n",
    "output_size = 25\n",
    "embed_size = 28"
   ]
  },
  {
   "cell_type": "markdown",
   "metadata": {
    "colab_type": "text",
    "id": "w7JjzOjaRXGf"
   },
   "source": [
    "# Encoder"
   ]
  },
  {
   "cell_type": "markdown",
   "metadata": {
    "colab_type": "text",
    "id": "5LA4R2q-MoXx"
   },
   "source": [
    "![alt text](https://learningdeep.xyz/assets/img/understanding_seq2seq_batch_encoder.jpg)\n",
    "\n",
    "Figure 1. Illustration of how baching works with sequence to sequence. Present image shows an example where **(1)** Shows 64 sentence having fixed length of 26 words are processed in single batch. **(2)** Five example sentences are shown such as **\"My name is Sunil\"**, **\"I'm Deep Learning Geek\"**, **\"I love CUDA\"**, **\"I love Pytorch\"**,** \"TF is Aww\"**. To process them in batch each sentence is transposed. Each sentence is padded with \"PAD\" token to make legnth equal to **26** as shown in **(2)**. At each iteration at time *t*, row-wise 64 element are taken and 128 dimensional embedding is calculated for each word as shown in **(3)**. such 64 element are processed with LSTM/GRU as shown in **(4)**. LSTM/GRU results in encoder output and encoder hidden state , encoder hidden state will be used in *t + 1*  time step. **(5)**. Next time at *t + 1* iteration 64 elements are taken and processed and simillar way. This iteration will be repeated for 26 times and at last encoder hidden of *t = 26* is passed to Decoder to use it as Decoder hidden."
   ]
  },
  {
   "cell_type": "markdown",
   "metadata": {
    "colab_type": "text",
    "id": "gY3Gr1c2QOIA"
   },
   "source": [
    "Lets start with encoder, our encoder will use GRU (gated recurrent units).\n",
    "\n",
    "Encoder unit takes two inputs, 1) input, and 2) Hiddden. Input Shape will be a tensor of size **[Batch_size, input_size]** -->** [64, 26]. For each batch row-wise 64 element are taken and 28 dimensional embedding is calculated.\n",
    "** Hidden state shape will of size** [unidirectional, Batch_size , Hidden_size]** -->** [1, 64, 28]**\n",
    "\n",
    "Here we are using trainable pytorch embeddings. Embed layer will convert each word in to fixed size vector, so for each batch embed layer will produce  **[Batch_size, input_size]** --> **[Batch_size, input_size, Embed_size]** . hence the ** [64, 1].** will be converted to ** [64, 1, 28].** (Each batch having 64 words, each word is represented by 28 dimentions)"
   ]
  },
  {
   "cell_type": "code",
   "execution_count": 3,
   "metadata": {
    "colab": {},
    "colab_type": "code",
    "id": "RDPqm8LiXcqL"
   },
   "outputs": [],
   "source": [
    "class EncoderRNN(nn.Module):\n",
    "    def __init__(self, input_size, hidden_size, n_layers=1):\n",
    "        super(EncoderRNN, self).__init__()\n",
    "        self.n_layers = n_layers\n",
    "        self.hidden_size = hidden_size\n",
    "        self.embedding = nn.Embedding(input_size, embed_size)\n",
    "        self.gru = nn.GRU(embed_size, hidden_size,num_layers = n_layers)\n",
    "\n",
    "    def forward(self, input, batch_size, hidden):\n",
    "        embedded = self.embedding(input).unsqueeze(1) #Input =  64 --->  #Output  [64,1 ]\n",
    "        embedded = embedded.view(1, batch_size, embed_size) #Input = [64, 1]  --- > #Output =  [1, 64, 28]\n",
    "        output = embedded\n",
    "        output, hidden = self.gru(output, hidden)\n",
    "        return output, hidden #Output 1, 64, 128  #encoder Hidden = 1, 64, 128\n",
    "\n",
    "    def initHidden(self, batch_size):\n",
    "        result = Variable(torch.zeros(1, batch_size, self.hidden_size))\n",
    "        return result #Output 1, 64, 128"
   ]
  },
  {
   "cell_type": "code",
   "execution_count": 4,
   "metadata": {
    "colab": {},
    "colab_type": "code",
    "id": "D9jjP4-4a7Ya"
   },
   "outputs": [],
   "source": [
    "ENCODER = EncoderRNN(input_size,hidden_size)"
   ]
  },
  {
   "cell_type": "markdown",
   "metadata": {
    "colab_type": "text",
    "id": "GPLcbMdwSH-S"
   },
   "source": [
    "\n",
    "I am now generating a fake dataset. of size [Batch_size, Input_size] --> [64, 26]. \n"
   ]
  },
  {
   "cell_type": "code",
   "execution_count": 5,
   "metadata": {
    "colab": {},
    "colab_type": "code",
    "id": "u2Y84lWKeDRg"
   },
   "outputs": [],
   "source": [
    "input = []\n",
    "for j in range(0,batch_size):\n",
    "    temp = []\n",
    "    for i in range(0, input_size):\n",
    "        temp.append(random.randint(0, 5))\n",
    "    input.append(temp)"
   ]
  },
  {
   "cell_type": "code",
   "execution_count": 6,
   "metadata": {
    "colab": {},
    "colab_type": "code",
    "id": "p_6iUL8OY2Xr"
   },
   "outputs": [],
   "source": [
    "test_encoder_input = torch.tensor(input)\n",
    "encoder_input_transposed = test_encoder_input.t()"
   ]
  },
  {
   "cell_type": "code",
   "execution_count": 11,
   "metadata": {
    "colab": {},
    "colab_type": "code",
    "id": "m9uGPIqyY2wY"
   },
   "outputs": [
    {
     "name": "stdout",
     "output_type": "stream",
     "text": [
      "Encoder input transposed :  torch.Size([25, 64])\n"
     ]
    }
   ],
   "source": [
    "print(\"Encoder input transposed : \", encoder_input_transposed.shape)"
   ]
  },
  {
   "cell_type": "code",
   "execution_count": 12,
   "metadata": {
    "colab": {},
    "colab_type": "code",
    "id": "FpsCIk1RbHmy"
   },
   "outputs": [],
   "source": [
    "encoder_hidden = ENCODER.initHidden(batch_size)"
   ]
  },
  {
   "cell_type": "code",
   "execution_count": 15,
   "metadata": {
    "colab": {},
    "colab_type": "code",
    "id": "N_VlDZroY2y6"
   },
   "outputs": [
    {
     "name": "stdout",
     "output_type": "stream",
     "text": [
      "Encoder outut shape :  torch.Size([1, 64, 128]) Encoder hidden state shape :  torch.Size([1, 64, 128])\n"
     ]
    }
   ],
   "source": [
    "for i in range (0,encoder_input_transposed.shape[0]):\n",
    "    encoder_output, encoder_hidden = ENCODER(encoder_input_transposed[i],batch_size,encoder_hidden)\n",
    "print(\"Encoder outut shape : \", encoder_output.shape, \"Encoder hidden state shape : \" ,encoder_hidden.shape)\n",
    "  "
   ]
  },
  {
   "cell_type": "markdown",
   "metadata": {
    "colab_type": "text",
    "id": "bA5HqrrpRTF9"
   },
   "source": [
    "---"
   ]
  },
  {
   "cell_type": "markdown",
   "metadata": {
    "colab_type": "text",
    "id": "gOfVBgPcq5LG"
   },
   "source": [
    "# Decoder"
   ]
  },
  {
   "cell_type": "markdown",
   "metadata": {
    "colab_type": "text",
    "id": "u8VQ4P_9L0MZ"
   },
   "source": [
    "![alt text](https://learningdeep.xyz/assets/img/understanding_seq2seq_batch_decoder.jpg)\n",
    "\n",
    "Figure 2. Where Decoding Phsase is shown.**(1)** Sentences having double lenght 52 (26*2) is shown with batch size 64. To make sentence equal padding (PAD token) is used as shown as **(2)**. Each time step slice of shape 64 is taken and 28 dimensional embedding is generated for eachword **(3)**. such slice havinf embedding having of shape [64, 1, 28] is processed with GRU/LSTM **(4)**. GRU/LSTM  gives two things as output, A. Decoder output and B. Decoder hidden **(5)**. Decoder outputs are stacked and will be final output after all time step (t = 52) are processed **(6)**. At each time step Decoder hidden od previous time step is used.\n"
   ]
  },
  {
   "cell_type": "markdown",
   "metadata": {
    "colab_type": "text",
    "id": "Iw-F0C-SQu3u"
   },
   "source": [
    "Our Decoder will use GRU (gated recurrent units).\n",
    "\n",
    "Decoder unit takes two inputs, 1) input, and 2) Hiddden. Input Shape will be a tensor of size **[Batch_size, input_size]** -->** [64, 52].** Hidden state shape will of size** [unidirectional, Batch_size , Hidden_size]** -->** [1, 64, 28]**\n",
    "\n",
    "Last Hidden state of Encoder will be first hidden state of the Decoder. \n",
    "\n",
    "Here we are using trainable pytorch embeddings. Embed layer will convert each word in to fixed size vector, so for each batch embed layer will produce  **[Batch_size, input_size]** --> **[Batch_size, input_size, Embed_size]** . hence the ** [64, 1].** will be converted to ** [64, 1, 28].** (Each batch having 64 sentences, each word is represented by 28 dimentions)"
   ]
  },
  {
   "cell_type": "markdown",
   "metadata": {
    "colab_type": "text",
    "id": "3WZBANOMWQn4"
   },
   "source": [
    "You need to decode element by element for the mini-batches. The initial decoder state [batch_size, hidden_layer_dimension] is also fine. You just need to unsqueeze it at dimension 0, to make it [1, batch_size, hidden_layer_dimension].\n",
    "\n",
    "Please note, you do not need to loop over each example in the batch, you can execute the whole batch at a time, but you need to loop over all batches 52 of the input of dim [64, 52].\n",
    "\n"
   ]
  },
  {
   "cell_type": "code",
   "execution_count": 16,
   "metadata": {
    "colab": {},
    "colab_type": "code",
    "id": "3VdrZi0lf7yO"
   },
   "outputs": [],
   "source": [
    "class DecoderRNN(nn.Module):\n",
    "\n",
    "    def __init__(self, hidden_size, output_size, n_layers=1):\n",
    "        super(DecoderRNN, self).__init__()\n",
    "        self.n_layers = n_layers\n",
    "        self.hidden_size = hidden_size\n",
    "        self.embedding = nn.Embedding(output_size, embed_size)\n",
    "        self.gru = nn.GRU(embed_size, hidden_size,num_layers = n_layers)\n",
    "        self.out = nn.Linear(hidden_size, output_size)\n",
    "        self.softmax = nn.LogSoftmax(dim=1)\n",
    "        self.drop = nn.Dropout(0.2)\n",
    "\n",
    "    def forward(self, input, batch_size, hidden,training=True):\n",
    "        embedded = self.embedding(input)   #Input =  64 --->  #Output  [64,1]\n",
    "        if training == True:\n",
    "            embedded = self.drop(embedded)\n",
    "        embedded = embedded.unsqueeze(1).view(-1, batch_size,embed_size)  # Input = 64, 1, 128  --- > #Output =  52, 64, 128\n",
    "        output = embedded\n",
    "        output = F.relu(output)\n",
    "        output, hidden = self.gru(output, hidden)\n",
    "        output = self.softmax(self.out(output[0]))\n",
    "        return output, hidden #Output 26, 64, 128  #encoder Hidden = 1, 64, 128\n",
    "\n",
    "    def initHidden(self, batch_size):\n",
    "        result = Variable(torch.empty(1, batch_size, self.hidden_size, device=device))\n",
    "        result = nn.init.xavier_normal_(result)\n",
    "        return result"
   ]
  },
  {
   "cell_type": "code",
   "execution_count": 17,
   "metadata": {
    "colab": {},
    "colab_type": "code",
    "id": "YoIq-YEBhjY_"
   },
   "outputs": [],
   "source": [
    "DECODER = DecoderRNN(hidden_size,output_size)"
   ]
  },
  {
   "cell_type": "markdown",
   "metadata": {
    "colab_type": "text",
    "id": "nqjkTT1sSqQW"
   },
   "source": [
    "I am now generating a fake dataset. of size [Batch_size, Input_size] --> [62,52]. \n"
   ]
  },
  {
   "cell_type": "code",
   "execution_count": 18,
   "metadata": {
    "colab": {},
    "colab_type": "code",
    "id": "w84vwnDChjZB"
   },
   "outputs": [],
   "source": [
    "main = []\n",
    "for j in range(0,batch_size):\n",
    "    temp = []\n",
    "    for i in range(0, output_size):\n",
    "        temp.append(random.randint(0, 5))\n",
    "    main.append(temp)"
   ]
  },
  {
   "cell_type": "code",
   "execution_count": 19,
   "metadata": {
    "colab": {},
    "colab_type": "code",
    "id": "etxhVtWpbFRb"
   },
   "outputs": [],
   "source": [
    "test_decoder_input = torch.tensor(main)\n",
    "decoder_input_transpose = test_decoder_input.t()"
   ]
  },
  {
   "cell_type": "markdown",
   "metadata": {
    "colab_type": "text",
    "id": "oe4DWf4Zwcsy"
   },
   "source": [
    "Each decoder output will be of [64, 25] for 52 batches. This represent distribution of probability for 25 words for batch size of 64. Argmax is applied to [64, 25] and it will select top 1 word with highest probability and the resultant output for each batch will be [64, 1].\n",
    "\n",
    "Such [64,1] output for 52 baches will give output sentence of double size(52) [64,52]."
   ]
  },
  {
   "cell_type": "code",
   "execution_count": 20,
   "metadata": {
    "colab": {},
    "colab_type": "code",
    "id": "yGT73Tx5bRuP"
   },
   "outputs": [],
   "source": [
    "decoder_hidden = encoder_hidden\n",
    "for i in range (0,decoder_input_transpose.shape[0]):\n",
    "    decoder_output, decoder_hidden = DECODER(decoder_input_transpose[i],batch_size,decoder_hidden)   "
   ]
  },
  {
   "cell_type": "code",
   "execution_count": 21,
   "metadata": {
    "colab": {},
    "colab_type": "code",
    "id": "4pSOXF2nhjZO"
   },
   "outputs": [
    {
     "name": "stdout",
     "output_type": "stream",
     "text": [
      "DECODER OUTPUT :  torch.Size([64, 25])   DECODER HIDDEN STATE : torch.Size([1, 64, 128])\n"
     ]
    }
   ],
   "source": [
    "print(\"DECODER OUTPUT : \", decoder_output.shape,\"  DECODER HIDDEN STATE :\", decoder_hidden.shape)"
   ]
  },
  {
   "cell_type": "markdown",
   "metadata": {
    "colab_type": "text",
    "id": "ZJb7LjmVTZPJ"
   },
   "source": [
    "# Loss function for Sequece to Sequence"
   ]
  },
  {
   "cell_type": "markdown",
   "metadata": {
    "colab_type": "text",
    "id": "WeN3MNX7SwpX"
   },
   "source": [
    "In a batch all sequecne are not of same length. So we must not calculate loss for padding (OR PAD) tokens added to input batches. To avoid this, a masked loss is calculated. In addition to PAD sometime EOS (End of Sequence) is added. Normal NLLLoss is calculated and loss corresponding to PAD is made to zero by masking. Resultant loss will be equavalent to average of loss derived by deviding total loss by total non-PAD tokens."
   ]
  },
  {
   "cell_type": "code",
   "execution_count": 22,
   "metadata": {
    "colab": {},
    "colab_type": "code",
    "id": "2M8uAvT_3LNh"
   },
   "outputs": [],
   "source": [
    "class customLoss(nn.Module):\n",
    "    def __init__(self,tag_pad_token = 1):\n",
    "        super(customLoss, self).__init__()\n",
    "        self.tag_pad_token = tag_pad_token\n",
    "\n",
    "    def forward(self,logits, target):  \n",
    "        target_flat = target.view(-1)\n",
    "        mask = target_flat > self.tag_pad_token\n",
    "        loss = nn.NLLLoss(reduce=False)(logits,target)\n",
    "        loss = loss*mask.float()\n",
    "        result = loss.sum()/len(target)\n",
    "        return result"
   ]
  },
  {
   "cell_type": "code",
   "execution_count": null,
   "metadata": {},
   "outputs": [],
   "source": []
  },
  {
   "cell_type": "code",
   "execution_count": null,
   "metadata": {},
   "outputs": [],
   "source": []
  }
 ],
 "metadata": {
  "colab": {
   "collapsed_sections": [],
   "name": "Understanding_Batching_With_Seq2Seq.ipynb",
   "provenance": [],
   "version": "0.3.2"
  },
  "kernelspec": {
   "display_name": "Python 3",
   "language": "python",
   "name": "python3"
  },
  "language_info": {
   "codemirror_mode": {
    "name": "ipython",
    "version": 3
   },
   "file_extension": ".py",
   "mimetype": "text/x-python",
   "name": "python",
   "nbconvert_exporter": "python",
   "pygments_lexer": "ipython3",
   "version": "3.6.3"
  },
  "pycharm": {
   "stem_cell": {
    "cell_type": "raw",
    "source": [],
    "metadata": {
     "collapsed": false
    }
   }
  }
 },
 "nbformat": 4,
 "nbformat_minor": 1
}