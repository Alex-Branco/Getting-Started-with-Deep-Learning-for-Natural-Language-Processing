{
 "cells": [
  {
   "cell_type": "markdown",
   "metadata": {},
   "source": [
    "# Application of RCNN\n",
    "\n",
    "## The Task\n",
    "To predict the next position of the box as shown in the yellow, this box will be moving to and fro in the shown frame.\n",
    "![box predict](../figures/box_predict.png)"
   ]
  },
  {
   "cell_type": "markdown",
   "metadata": {},
   "source": [
    "## Why it s difficult?\n",
    "Based on current positon of the box the box can have two postion, one is in the right of the box and one is in the left of the box. as shown in the below diagram.\n",
    "The CNN takes in to consideration the current frame without any previous information about the direction in which the box was moving. Where as the RCNN predict the next posrion of the box by taking considering input from many previous frames.\n",
    "![box predict](../figures/abig_predict.png)\n",
    "\n"
   ]
  },
  {
   "cell_type": "markdown",
   "metadata": {},
   "source": [
    "## How to solve it.\n",
    "CNN combined with the temporal memory can solve this problem, This combination is commonly known as the Recurrent-CNN architecture.\n",
    "![box memory](../figures/temporal_prediction.png)\n"
   ]
  },
  {
   "cell_type": "markdown",
   "metadata": {},
   "source": [
    "### Import libraries"
   ]
  },
  {
   "cell_type": "code",
   "execution_count": null,
   "metadata": {},
   "outputs": [],
   "source": [
    "%matplotlib inline\n",
    "import matplotlib.pyplot as plt\n",
    "import numpy as np\n",
    "from PIL import Image, ImageDraw"
   ]
  },
  {
   "cell_type": "code",
   "execution_count": null,
   "metadata": {},
   "outputs": [],
   "source": [
    "FRAME_SIZE = [5,50] # size of bar in which the yellow box will move\n",
    "BOX_WIDTH = 3 # height and width of the yellow box"
   ]
  },
  {
   "cell_type": "markdown",
   "metadata": {},
   "source": [
    "### Functions to draw box in matrix"
   ]
  },
  {
   "cell_type": "code",
   "execution_count": null,
   "metadata": {},
   "outputs": [],
   "source": [
    "def get_rect(x, y, width, height):\n",
    "    \"\"\"\n",
    "    making rectlangle\n",
    "    \"\"\"\n",
    "    rect = np.array([(0, 0), (width-1, 0), (width-1, height-1), (0, height-1), (0, 0)])\n",
    "    offset = np.array([x, y])\n",
    "    transformed_rect = rect + offset\n",
    "    return transformed_rect\n",
    "\n",
    "def get_array_with_box_at_pos(x):\n",
    "    \"\"\"\n",
    "    incorporating rectanle in to frame\n",
    "    \"\"\"\n",
    "    data = np.zeros(FRAME_SIZE)\n",
    "    img = Image.fromarray(data)\n",
    "    draw = ImageDraw.Draw(img)\n",
    "    rect = get_rect(x=x, y=1, width=BOX_WIDTH, height=BOX_WIDTH)\n",
    "    draw.polygon([tuple(p) for p in rect], fill=1)\n",
    "    new_data = np.asarray(img)\n",
    "    return new_data"
   ]
  },
  {
   "cell_type": "markdown",
   "metadata": {},
   "source": [
    "If we want the box to be at the position 20 then the resultant bar with the box will look like as given below."
   ]
  },
  {
   "cell_type": "markdown",
   "metadata": {},
   "source": [
    "## Use functions to generate data sequence"
   ]
  },
  {
   "cell_type": "code",
   "execution_count": null,
   "metadata": {},
   "outputs": [],
   "source": [
    "# defining movement range, the box can move from 1 to FRAME_SIZE - BOX_WIDTH\n",
    "movement_offset = 1\n",
    "movement_start = movement_offset\n",
    "movement_end = (FRAME_SIZE[1]-1) - BOX_WIDTH\n",
    "movement_range = movement_end - movement_offset\n",
    "movement_start, movement_end, movement_range"
   ]
  },
  {
   "cell_type": "markdown",
   "metadata": {},
   "source": [
    "### Create movement pattern"
   ]
  },
  {
   "cell_type": "code",
   "execution_count": null,
   "metadata": {},
   "outputs": [],
   "source": [
    "DATA_POINTS = 100 # max number of data to be prepared"
   ]
  },
  {
   "cell_type": "markdown",
   "metadata": {},
   "source": [
    "Creating sine like function, the postion of data in cycle represent the position of the box in the bar"
   ]
  },
  {
   "cell_type": "code",
   "execution_count": null,
   "metadata": {
    "scrolled": false
   },
   "outputs": [],
   "source": [
    "base = (np.arange(DATA_POINTS)/DATA_POINTS)* 6 *np.pi # 6 for 6 up and down in the cycle\n",
    "sined = (np.sin(base) + 1 )/2\n",
    "plt.scatter(base, sined)\n",
    "plt.show()"
   ]
  },
  {
   "cell_type": "code",
   "execution_count": null,
   "metadata": {},
   "outputs": [],
   "source": [
    "def sin_to_pos(sin_val):\n",
    "    return (sin_val*movement_range)+movement_offset"
   ]
  },
  {
   "cell_type": "code",
   "execution_count": null,
   "metadata": {
    "scrolled": false
   },
   "outputs": [],
   "source": [
    "frames = []\n",
    "print_every_n_frames = 2\n",
    "for i,t in enumerate(sined):\n",
    "    frame = get_array_with_box_at_pos(sin_to_pos(t))\n",
    "    if(i % print_every_n_frames)==0:\n",
    "        plt.imshow(frame, interpolation='nearest')\n",
    "        plt.show()\n",
    "    frames.append(frame)"
   ]
  },
  {
   "cell_type": "markdown",
   "metadata": {},
   "source": [
    "## Export the data to file"
   ]
  },
  {
   "cell_type": "code",
   "execution_count": null,
   "metadata": {},
   "outputs": [],
   "source": [
    "y = sin_to_pos(sined[1:])\n",
    "X = frames[:-1]\n",
    "print(\"Lenght of X : \",len(X), \" | Length of Y : \",len(y))"
   ]
  },
  {
   "cell_type": "code",
   "execution_count": null,
   "metadata": {},
   "outputs": [],
   "source": [
    "with open('RCNN/data/sliding_square_target.npy', 'wb') as file:\n",
    "    np.save(arr=y, file=file)\n",
    "\n",
    "with open('RCNN/data/sliding_square.npy', 'wb') as file:\n",
    "    np.save(arr=X, file=file)\n"
   ]
  }
 ],
 "metadata": {
  "kernelspec": {
   "display_name": "Python 3",
   "language": "python",
   "name": "python3"
  },
  "language_info": {
   "codemirror_mode": {
    "name": "ipython",
    "version": 3
   },
   "file_extension": ".py",
   "mimetype": "text/x-python",
   "name": "python",
   "nbconvert_exporter": "python",
   "pygments_lexer": "ipython3",
   "version": "3.6.8"
  }
 },
 "nbformat": 4,
 "nbformat_minor": 2
}
