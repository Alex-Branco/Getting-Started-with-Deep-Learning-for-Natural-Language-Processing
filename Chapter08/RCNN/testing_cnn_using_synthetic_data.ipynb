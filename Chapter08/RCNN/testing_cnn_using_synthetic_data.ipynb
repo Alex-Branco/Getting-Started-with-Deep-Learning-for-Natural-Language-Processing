{
 "cells": [
  {
   "cell_type": "markdown",
   "metadata": {},
   "source": [
    "# Apply CNN on Synthetic Data"
   ]
  },
  {
   "cell_type": "markdown",
   "metadata": {},
   "source": [
    "## Importing Requirements"
   ]
  },
  {
   "cell_type": "code",
   "execution_count": null,
   "metadata": {},
   "outputs": [],
   "source": [
    "%matplotlib inline\n",
    "\n",
    "import numpy as np\n",
    "import pandas as pd\n",
    "import matplotlib.pyplot as plt\n",
    "import numpy as np\n",
    "import torch.nn.functional as F\n",
    "from torch.nn import init\n",
    "import numpy as np\n",
    "from torch import nn\n",
    "from torch.autograd import Variable\n",
    "import math\n",
    "import torch\n",
    "from sklearn.externals import joblib\n",
    "from sklearn.model_selection import train_test_split\n",
    "from sklearn.metrics import mean_squared_error\n",
    "\n",
    "from box_gen import get_array_with_box_at_pos"
   ]
  },
  {
   "cell_type": "code",
   "execution_count": null,
   "metadata": {},
   "outputs": [],
   "source": [
    "# import data\n",
    "X = np.load(\"RCNN/data/sliding_square.npy\")\n",
    "y = np.load(\"RCNN/data/sliding_square_target.npy\")"
   ]
  },
  {
   "cell_type": "code",
   "execution_count": null,
   "metadata": {},
   "outputs": [],
   "source": [
    "# split data\n",
    "x_train, x_test, y_train, y_test = train_test_split(\n",
    "    X, y, test_size=0.30, random_state=42)"
   ]
  },
  {
   "cell_type": "markdown",
   "metadata": {},
   "source": [
    "**Visualizing data**"
   ]
  },
  {
   "cell_type": "code",
   "execution_count": null,
   "metadata": {},
   "outputs": [],
   "source": [
    "# print out x,y pairs\n",
    "for frame, next_pos in zip(x_train[:5], y_train[:5]):\n",
    "    ax2 = plt.subplot(221)\n",
    "    ax2.imshow(frame)\n",
    "    ax2.set_title('X')\n",
    "    ax1 = plt.subplot(222)\n",
    "    ax1.imshow(get_array_with_box_at_pos(next_pos))\n",
    "    ax1.set_title('Y')\n",
    "    plt.show()\n"
   ]
  },
  {
   "cell_type": "code",
   "execution_count": null,
   "metadata": {},
   "outputs": [],
   "source": [
    "print(\"X Train Shape : \", x_train.shape)"
   ]
  },
  {
   "cell_type": "markdown",
   "metadata": {},
   "source": [
    "# Build CNN Model\n",
    "To see what happens when CNN s used for predicting the position of the box given the current position. our CNN model looks like as given below. \n",
    "It has one Conv1D layer, followed by dense layers. "
   ]
  },
  {
   "cell_type": "code",
   "execution_count": null,
   "metadata": {},
   "outputs": [],
   "source": [
    "class CNN(nn.Module):\n",
    "    def __init__(self ):\n",
    "        super(CNN, self).__init__()\n",
    "        self.conv1D = nn.Conv1d(in_channels=5,out_channels=2, kernel_size=3)\n",
    "        self.dense1 = nn.Linear(in_features=2*48,out_features=10)\n",
    "        self.dense2 = nn.Linear(in_features=10,out_features=1)\n",
    "        \n",
    "    def forward(self, input):\n",
    "        conv_out = self.conv1D(input)\n",
    "        conv_out_reshape =  conv_out.view(-1,48*2)\n",
    "        dense1_out = self.dense1(conv_out_reshape)\n",
    "        dense2_out = self.dense2(dense1_out)\n",
    "        return dense2_out"
   ]
  },
  {
   "cell_type": "code",
   "execution_count": null,
   "metadata": {},
   "outputs": [],
   "source": [
    "cnn_model  = CNN()"
   ]
  },
  {
   "cell_type": "markdown",
   "metadata": {},
   "source": [
    "**Defining loss and optimizer**"
   ]
  },
  {
   "cell_type": "code",
   "execution_count": null,
   "metadata": {},
   "outputs": [],
   "source": [
    "criteria = nn.MSELoss()\n",
    "optimizer = torch.optim.Adam(cnn_model.parameters(), lr=0.1)"
   ]
  },
  {
   "cell_type": "markdown",
   "metadata": {},
   "source": [
    "# Training \n",
    "The input to this network will be A 2D array with the position of the box in the frame. The expected output will be the next position of the box in the frame. "
   ]
  },
  {
   "cell_type": "code",
   "execution_count": null,
   "metadata": {},
   "outputs": [],
   "source": [
    "epochs = 100\n",
    "losses  = []\n",
    "for i in range(epochs):\n",
    "    x = Variable(torch.Tensor(x_train).type(torch.FloatTensor))\n",
    "    optimizer.zero_grad()\n",
    "    predicted = cnn_model(x)\n",
    "    loss = criteria(predicted, Variable(torch.Tensor(y_train.reshape(-1,1))))\n",
    "    losses.append(loss.item())\n",
    "    loss.backward()\n",
    "    optimizer.step()"
   ]
  },
  {
   "cell_type": "markdown",
   "metadata": {},
   "source": [
    "## Plotting progress"
   ]
  },
  {
   "cell_type": "code",
   "execution_count": null,
   "metadata": {},
   "outputs": [],
   "source": [
    "plt.plot(losses)\n",
    "plt.xlabel(\"Epochs\")\n",
    "plt.ylabel(\"Losses\")\n",
    "plt.title(\"Decrease in loss as the training progresses\")"
   ]
  },
  {
   "cell_type": "markdown",
   "metadata": {},
   "source": [
    "# Visualizing Predictions"
   ]
  },
  {
   "cell_type": "code",
   "execution_count": null,
   "metadata": {},
   "outputs": [],
   "source": [
    "test_loss = 0\n",
    "all_predictions = []\n",
    "all_label = []\n",
    "for frame, output in zip(x_test, y_test):\n",
    "    x = Variable(torch.Tensor(frame).unsqueeze(0).type(torch.FloatTensor))\n",
    "    predicted = cnn_model(x)\n",
    "    \n",
    "    ax1 = plt.subplot(331)\n",
    "    ax1.imshow(x[0])\n",
    "    ax1.set_title('X')\n",
    "    plt.yticks([])\n",
    "\n",
    "    ax2 = plt.subplot(332)\n",
    "    ax2.imshow(get_array_with_box_at_pos(predicted.detach().numpy()[0][0]))\n",
    "    ax2.set_title('y_pred'+ \" = \"+ str(round(predicted.detach().numpy()[0][0],2)))\n",
    "    plt.yticks([])\n",
    "    \n",
    "    ax3 = plt.subplot(333)\n",
    "    ax3.imshow(get_array_with_box_at_pos(output))\n",
    "    ax3.set_title('y'+ \" = \"+ str(round(output,2)))\n",
    "    plt.yticks([])\n",
    "    plt.show()\n",
    "    \n",
    "    all_predictions.append(predicted.item())\n",
    "    all_label.append(output)\n",
    "\n",
    "test_loss += mean_squared_error(all_predictions, all_label)"
   ]
  },
  {
   "cell_type": "code",
   "execution_count": null,
   "metadata": {},
   "outputs": [],
   "source": [
    "print(\"The final test loss : \", test_loss)"
   ]
  }
 ],
 "metadata": {
  "kernelspec": {
   "display_name": "Python 3",
   "language": "python",
   "name": "python3"
  },
  "language_info": {
   "codemirror_mode": {
    "name": "ipython",
    "version": 3
   },
   "file_extension": ".py",
   "mimetype": "text/x-python",
   "name": "python",
   "nbconvert_exporter": "python",
   "pygments_lexer": "ipython3",
   "version": "3.6.8"
  }
 },
 "nbformat": 4,
 "nbformat_minor": 1
}
