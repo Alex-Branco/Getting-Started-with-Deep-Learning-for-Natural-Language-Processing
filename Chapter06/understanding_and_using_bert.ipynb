{
 "cells": [
  {
   "cell_type": "markdown",
   "metadata": {},
   "source": [
    "# Understanding And Using Bert\n",
    "Bert is Bidirectional Encoder Representations from Transformers. Bert is recently discovered techniques for the embedding generation by Google researchers. Bert is the state of the art model provided the best result on a wide variety of NLP tasks. Bert is the key technical innovation applying bi-direction training of the transformer to the language modelling. As we have seen in the previous recipe that the Elmo model with bidirectional model shows better accuracy on language modelling task. Extending the concept of Elmo, Bert also uses the bi-direction trained model. In this paper researcher used novel techniques, Masked LM (MLM), which allows bidirectional training of the model which previously was impossible."
   ]
  },
  {
   "cell_type": "markdown",
   "metadata": {
    "colab_type": "text",
    "id": "cWqklbUTsaXc"
   },
   "source": [
    "## 1) Using Flair Embeddings\n",
    "A very simple framework for state-of-the-art Natural Language Processing (NLP) - [zalandoresearch/flair](https://github.com/zalandoresearch/flair)"
   ]
  },
  {
   "cell_type": "markdown",
   "metadata": {},
   "source": [
    "### Installation"
   ]
  },
  {
   "cell_type": "code",
   "execution_count": null,
   "metadata": {
    "colab": {},
    "colab_type": "code",
    "id": "sQUBpRftrJIU"
   },
   "outputs": [],
   "source": [
    "!pip install flair"
   ]
  },
  {
   "cell_type": "markdown",
   "metadata": {},
   "source": [
    "### Usage"
   ]
  },
  {
   "cell_type": "code",
   "execution_count": null,
   "metadata": {
    "colab": {},
    "colab_type": "code",
    "id": "-23d3khFrMKL"
   },
   "outputs": [],
   "source": [
    "from flair.embeddings import BertEmbeddings\n",
    "from flair.data import Sentence\n",
    "# init embedding\n",
    "embedding = BertEmbeddings()\n",
    "# create a sentence object\n",
    "sentence = Sentence('The grass is green .')\n",
    "# get embeddings\n",
    "for token in sentence:\n",
    "    print(token)\n",
    "    print(token.embedding)"
   ]
  },
  {
   "cell_type": "code",
   "execution_count": null,
   "metadata": {
    "colab": {},
    "colab_type": "code",
    "id": "Q_GGBJjarUhg"
   },
   "outputs": [],
   "source": [
    "# init embedding\n",
    "embedding = BertEmbeddings()"
   ]
  },
  {
   "cell_type": "code",
   "execution_count": null,
   "metadata": {
    "colab": {},
    "colab_type": "code",
    "id": "8pFPx4p-rY9D"
   },
   "outputs": [],
   "source": [
    "# create a sentence object\n",
    "sentence = Sentence('The grass is green .')"
   ]
  },
  {
   "cell_type": "code",
   "execution_count": null,
   "metadata": {
    "colab": {},
    "colab_type": "code",
    "id": "zsRFuOm3r7TQ"
   },
   "outputs": [],
   "source": [
    "# get embeddings\n",
    "for token in sentence:\n",
    "    print(\"Token : \", token)\n",
    "    print(\"Embedding Shape : \", token.embedding.shape)"
   ]
  },
  {
   "cell_type": "markdown",
   "metadata": {
    "colab_type": "text",
    "id": "hNyqTZNos2IK"
   },
   "source": [
    "## Output : "
   ]
  },
  {
   "cell_type": "markdown",
   "metadata": {
    "colab_type": "text",
    "id": "ogFrYEOHsujw"
   },
   "source": [
    "```python\n",
    "Token: 1 The\n",
    "tensor([-0.0323, -0.3904, -1.1946,  ...,  0.1305, -0.1365, -0.4323])\n",
    "Token: 2 grass\n",
    "tensor([-0.3973,  0.2652, -0.1337,  ...,  0.3715,  0.1097, -1.1625])\n",
    "Token: 3 is\n",
    "tensor([ 0.1374, -0.3688, -0.8292,  ...,  0.2533,  0.0294,  0.4293])\n",
    "Token: 4 green\n",
    "tensor([-0.7722, -0.1152,  0.3661,  ...,  0.1575, -0.0682, -0.7661])\n",
    "Token: 5 .\n",
    "tensor([ 0.1441, -0.1772, -0.5911,  ..., -1.4830,  0.1995, -0.0112])\n",
    "```"
   ]
  },
  {
   "cell_type": "markdown",
   "metadata": {
    "colab_type": "text",
    "id": "QsTEUgTatA8W"
   },
   "source": [
    "## 2) Bert Server Client System\n",
    "This makes more sense as the Bert being a bulkier model its good to run it on the powerful model and serve it from there to client APIs. Bert as service, A module on GitHub has excellent server client support for the Bert.\n",
    "Mapping a variable-length sentence to a fixed-length vector using BERT model - [bert as service](https://github.com/hanxiao/bert-as-service)"
   ]
  },
  {
   "cell_type": "code",
   "execution_count": null,
   "metadata": {
    "colab": {},
    "colab_type": "code",
    "id": "2cnzNvVftCMP"
   },
   "outputs": [],
   "source": [
    "!pip install bert-serving-server  # server\n",
    "!pip install bert-serving-client  # client, independent of `bert-serving-server`"
   ]
  },
  {
   "cell_type": "code",
   "execution_count": null,
   "metadata": {
    "colab": {},
    "colab_type": "code",
    "id": "Cap7mkI5twgp"
   },
   "outputs": [],
   "source": [
    "!wget https://storage.googleapis.com/bert_models/2018_10_18/uncased_L-12_H-768_A-12.zip\n",
    "!unzip uncased_L-12_H-768_A-12.zip\n",
    "!bash bert-serving-start -model_dir uncased_L-12_H-768_A-12/ -num_worker=2"
   ]
  },
  {
   "cell_type": "code",
   "execution_count": null,
   "metadata": {
    "colab": {},
    "colab_type": "code",
    "id": "qW7nA_9itwkn"
   },
   "outputs": [],
   "source": [
    "from bert_serving.client import BertClient\n",
    "bc = BertClient()\n",
    "bc.encode(['First do it', 'then do it right', 'then do it better'])"
   ]
  }
 ],
 "metadata": {
  "accelerator": "GPU",
  "colab": {
   "collapsed_sections": [],
   "name": "Understanding And Using Bert.ipynb",
   "provenance": [],
   "version": "0.3.2"
  },
  "kernelspec": {
   "display_name": "Python 3",
   "language": "python",
   "name": "python3"
  },
  "language_info": {
   "codemirror_mode": {
    "name": "ipython",
    "version": 3
   },
   "file_extension": ".py",
   "mimetype": "text/x-python",
   "name": "python",
   "nbconvert_exporter": "python",
   "pygments_lexer": "ipython3",
   "version": "3.6.3"
  }
 },
 "nbformat": 4,
 "nbformat_minor": 1
}
